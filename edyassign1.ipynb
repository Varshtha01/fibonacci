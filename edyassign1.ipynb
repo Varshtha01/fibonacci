{
 "cells": [
  {
   "cell_type": "code",
   "execution_count": 1,
   "id": "3b14f6fa",
   "metadata": {},
   "outputs": [
    {
     "name": "stdout",
     "output_type": "stream",
     "text": [
      "10\n",
      "0\n",
      "1\n",
      "1\n",
      "2\n",
      "3\n",
      "5\n",
      "8\n",
      "13\n",
      "21\n",
      "34\n"
     ]
    }
   ],
   "source": [
    "# fibonacci\n",
    "n = int(input())\n",
    "n1 ,n2 = 0,1\n",
    "count=0\n",
    "if n<0:\n",
    "    print(\"no result\")\n",
    "elif n ==1:\n",
    "    print(n1)\n",
    "else:\n",
    "    while count <n:\n",
    "        print(n1)\n",
    "        nth = n1+n2\n",
    "        n1=n2\n",
    "        n2 =nth\n",
    "        count+=1"
   ]
  },
  {
   "cell_type": "code",
   "execution_count": null,
   "id": "96e1fc94",
   "metadata": {},
   "outputs": [],
   "source": []
  }
 ],
 "metadata": {
  "kernelspec": {
   "display_name": "Python 3",
   "language": "python",
   "name": "python3"
  },
  "language_info": {
   "codemirror_mode": {
    "name": "ipython",
    "version": 3
   },
   "file_extension": ".py",
   "mimetype": "text/x-python",
   "name": "python",
   "nbconvert_exporter": "python",
   "pygments_lexer": "ipython3",
   "version": "3.8.8"
  }
 },
 "nbformat": 4,
 "nbformat_minor": 5
}
